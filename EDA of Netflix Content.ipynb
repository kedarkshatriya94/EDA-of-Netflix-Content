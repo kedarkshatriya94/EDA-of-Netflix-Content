{
 "cells": [
  {
   "cell_type": "code",
   "execution_count": 1,
   "id": "1fa74bbe",
   "metadata": {},
   "outputs": [],
   "source": [
    "import numpy as np\n",
    "import pandas as pd\n",
    "import matplotlib.pyplot as plt\n",
    "import seaborn as sns\n",
    "plt.style.use('seaborn-whitegrid')\n",
    "sns.set_style('whitegrid')"
   ]
  },
  {
   "cell_type": "code",
   "execution_count": 2,
   "id": "5e9405b9",
   "metadata": {},
   "outputs": [
    {
     "name": "stdout",
     "output_type": "stream",
     "text": [
      "Done!\n"
     ]
    }
   ],
   "source": [
    "df = pd.read_csv(r'D:\\Kedar\\Python\\DataSet\\Kaggle\\netflix_titles.csv')\n",
    "print('Done!')"
   ]
  },
  {
   "cell_type": "markdown",
   "id": "1fee775e",
   "metadata": {},
   "source": [
    "# Data Investigation"
   ]
  },
  {
   "cell_type": "code",
   "execution_count": 3,
   "id": "1f59402e",
   "metadata": {},
   "outputs": [
    {
     "name": "stdout",
     "output_type": "stream",
     "text": [
      "netflix movies and shows:  8807\n",
      "dataset variables:  12\n",
      "----------\n",
      "dateset columns: \n",
      "\n",
      "Index(['show_id', 'type', 'title', 'director', 'cast', 'country', 'date_added',\n",
      "       'release_year', 'rating', 'duration', 'listed_in', 'description'],\n",
      "      dtype='object')\n",
      "----------\n",
      "data-type of each column: \n",
      "\n",
      "show_id         object\n",
      "type            object\n",
      "title           object\n",
      "director        object\n",
      "cast            object\n",
      "country         object\n",
      "date_added      object\n",
      "release_year     int64\n",
      "rating          object\n",
      "duration        object\n",
      "listed_in       object\n",
      "description     object\n",
      "dtype: object\n",
      "----------\n",
      "missing rows in each column: \n",
      "\n",
      "director      2634\n",
      "cast           825\n",
      "country        831\n",
      "date_added      10\n",
      "rating           4\n",
      "duration         3\n",
      "dtype: int64\n"
     ]
    }
   ],
   "source": [
    "def data_inv(df):\n",
    "    print('netflix movies and shows: ',df.shape[0])\n",
    "    print('dataset variables: ',df.shape[1])\n",
    "    print('-'*10)\n",
    "    print('dateset columns: \\n')\n",
    "    print(df.columns)\n",
    "    print('-'*10)\n",
    "    print('data-type of each column: \\n')\n",
    "    print(df.dtypes)\n",
    "    print('-'*10)\n",
    "    print('missing rows in each column: \\n')\n",
    "    c=df.isnull().sum()\n",
    "    print(c[c>0])\n",
    "data_inv(df)"
   ]
  },
  {
   "cell_type": "markdown",
   "id": "2cc681ec",
   "metadata": {},
   "source": [
    "# Data Cleaning"
   ]
  },
  {
   "cell_type": "code",
   "execution_count": 7,
   "id": "7d462535",
   "metadata": {},
   "outputs": [],
   "source": [
    "df=df.drop('show_id',axis=1)"
   ]
  },
  {
   "cell_type": "code",
   "execution_count": 8,
   "id": "2f391eb0",
   "metadata": {},
   "outputs": [],
   "source": [
    "df['cast']=df['cast'].replace(np.nan,'Unknown')\n",
    "def cast_counter(cast):\n",
    "    if cast=='Unknown':\n",
    "        return 0\n",
    "    else:\n",
    "        lst=cast.split(', ')\n",
    "        length=len(lst)\n",
    "        return length\n",
    "df['number_of_cast']=df['cast'].apply(cast_counter)\n",
    "df['cast']=df['cast'].replace('Unknown',np.nan)"
   ]
  },
  {
   "cell_type": "code",
   "execution_count": 10,
   "id": "20454d69",
   "metadata": {},
   "outputs": [],
   "source": [
    "df=df.reset_index()"
   ]
  },
  {
   "cell_type": "code",
   "execution_count": 12,
   "id": "936a28bc",
   "metadata": {},
   "outputs": [],
   "source": [
    "df.rating = df.rating.fillna(df.rating.mode()[0])"
   ]
  },
  {
   "cell_type": "code",
   "execution_count": 15,
   "id": "779531f5",
   "metadata": {},
   "outputs": [],
   "source": [
    "for i,j in zip(df['country'].values,df.index):\n",
    "    if i==np.nan:\n",
    "        if ('Anime' in df.loc[j,'listed_in']) or ('anime' in df.loc[j,'listed_in']):\n",
    "                df.loc[j,'country']='Japan'\n",
    "        else:\n",
    "            continue\n",
    "    else:\n",
    "        continue"
   ]
  },
  {
   "cell_type": "code",
   "execution_count": 17,
   "id": "505f3a9c",
   "metadata": {},
   "outputs": [],
   "source": [
    "df=df.drop('date_added',axis=1)"
   ]
  },
  {
   "cell_type": "code",
   "execution_count": 18,
   "id": "d6c5dca7",
   "metadata": {},
   "outputs": [
    {
     "data": {
      "text/plain": [
       "index              int64\n",
       "type              object\n",
       "title             object\n",
       "director          object\n",
       "cast              object\n",
       "country           object\n",
       "release_year       int64\n",
       "rating            object\n",
       "duration          object\n",
       "listed_in         object\n",
       "description       object\n",
       "number_of_cast     int64\n",
       "dtype: object"
      ]
     },
     "execution_count": 18,
     "metadata": {},
     "output_type": "execute_result"
    }
   ],
   "source": [
    "df.dtypes"
   ]
  },
  {
   "cell_type": "code",
   "execution_count": 20,
   "id": "1b553af8",
   "metadata": {},
   "outputs": [],
   "source": [
    "for i in df.index:          # replacing UR by NR\n",
    "    if df.loc[i,'rating']=='UR':\n",
    "        df.loc[i,'rating']='NR'"
   ]
  },
  {
   "cell_type": "code",
   "execution_count": 21,
   "id": "32f648be",
   "metadata": {},
   "outputs": [
    {
     "data": {
      "image/png": "[encoded data removed]",
      "text/plain": [
       "<Figure size 576x432 with 1 Axes>"
      ]
     },
     "metadata": {},
     "output_type": "display_data"
    }
   ],
   "source": [
    "plt.figure(figsize=(8,6))\n",
    "df['rating'].value_counts(normalize=True).plot.bar()\n",
    "plt.title('Distribution of rating categories')\n",
    "plt.xlabel('rating')\n",
    "plt.ylabel('relative frequency')\n",
    "plt.show()"
   ]
  },
  {
   "cell_type": "code",
   "execution_count": 22,
   "id": "53abfd68",
   "metadata": {},
   "outputs": [
    {
     "data": {
      "image/png": "[encoded data removed]",
      "text/plain": [
       "<Figure size 720x576 with 1 Axes>"
      ]
     },
     "metadata": {},
     "output_type": "display_data"
    }
   ],
   "source": [
    "plt.figure(figsize=(10,8))\n",
    "sns.countplot(x='rating',hue='type',data=df)\n",
    "plt.title('comparing frequency between type and rating')\n",
    "plt.show()"
   ]
  },
  {
   "cell_type": "code",
   "execution_count": 23,
   "id": "febc48cb",
   "metadata": {},
   "outputs": [
    {
     "data": {
      "text/plain": [
       "United States                                         2818\n",
       "India                                                  972\n",
       "United Kingdom                                         419\n",
       "Japan                                                  245\n",
       "South Korea                                            199\n",
       "                                                      ... \n",
       "Somalia, Kenya, Sudan, South Africa, United States       1\n",
       "United States, France, United Kingdom, Japan             1\n",
       "United States, Cambodia, Romania                         1\n",
       "Venezuela                                                1\n",
       "Poland,                                                  1\n",
       "Name: country, Length: 748, dtype: int64"
      ]
     },
     "execution_count": 23,
     "metadata": {},
     "output_type": "execute_result"
    }
   ],
   "source": [
    "df['country'].value_counts().sort_values(ascending=False)"
   ]
  },
  {
   "cell_type": "code",
   "execution_count": 24,
   "id": "7ddbe6b1",
   "metadata": {},
   "outputs": [],
   "source": [
    "top_productive_countries=df[(df['country']=='United States')|(df['country']=='India')|(df['country']=='United Kingdom')|(df['country']=='Japan')|\n",
    "                             (df['country']=='South Korea')|(df['country']=='Spain')]"
   ]
  },
  {
   "cell_type": "code",
   "execution_count": 28,
   "id": "af2bb59e",
   "metadata": {},
   "outputs": [
    {
     "data": {
      "image/png": "[encoded data removed]",
      "text/plain": [
       "<Figure size 720x576 with 1 Axes>"
      ]
     },
     "metadata": {},
     "output_type": "display_data"
    }
   ],
   "source": [
    "plt.figure(figsize=(10,8))\n",
    "sns.countplot(x='country',hue='type',data=top_productive_countries)\n",
    "plt.title('comparing between the types that the top countries produce')\n",
    "plt.show()"
   ]
  },
  {
   "cell_type": "markdown",
   "id": "f817e2fc",
   "metadata": {},
   "source": [
    "# UK and Japan produces TV-Shows more than Movies"
   ]
  },
  {
   "cell_type": "code",
   "execution_count": 30,
   "id": "dd959a9e",
   "metadata": {},
   "outputs": [
    {
     "name": "stdout",
     "output_type": "stream",
     "text": [
      "United States\n",
      "TV-MA       32.931157\n",
      "R           15.613911\n",
      "TV-14       14.407381\n",
      "PG-13       10.255500\n",
      "TV-PG        8.907026\n",
      "PG           5.819730\n",
      "TV-Y7        3.584102\n",
      "TV-Y         3.087296\n",
      "TV-G         2.909865\n",
      "NR           1.277502\n",
      "G            1.029099\n",
      "TV-Y7-FV     0.035486\n",
      "74 min       0.035486\n",
      "66 min       0.035486\n",
      "84 min       0.035486\n",
      "NC-17        0.035486\n",
      "Name: rating, dtype: float64\n",
      "----------\n",
      "India\n",
      "TV-14       56.584362\n",
      "TV-MA       25.514403\n",
      "TV-PG       13.786008\n",
      "TV-Y7        1.440329\n",
      "TV-G         0.925926\n",
      "TV-Y         0.514403\n",
      "PG-13        0.411523\n",
      "NR           0.411523\n",
      "PG           0.205761\n",
      "TV-Y7-FV     0.102881\n",
      "R            0.102881\n",
      "Name: rating, dtype: float64\n",
      "----------\n",
      "United Kingdom\n",
      "TV-MA    42.243437\n",
      "TV-PG    17.899761\n",
      "TV-14    17.183771\n",
      "R         7.875895\n",
      "TV-G      5.489260\n",
      "TV-Y      4.534606\n",
      "PG-13     1.909308\n",
      "NR        1.193317\n",
      "TV-Y7     1.193317\n",
      "PG        0.477327\n",
      "Name: rating, dtype: float64\n",
      "----------\n",
      "Japan\n",
      "TV-14    37.142857\n",
      "TV-MA    35.918367\n",
      "TV-PG    15.918367\n",
      "TV-Y7     6.938776\n",
      "PG        1.632653\n",
      "PG-13     1.224490\n",
      "TV-Y      0.816327\n",
      "TV-G      0.408163\n",
      "Name: rating, dtype: float64\n",
      "----------\n",
      "South Korea\n",
      "TV-MA    42.713568\n",
      "TV-14    41.708543\n",
      "TV-PG     8.040201\n",
      "TV-Y7     3.517588\n",
      "TV-Y      2.010050\n",
      "NR        1.507538\n",
      "TV-G      0.502513\n",
      "Name: rating, dtype: float64\n",
      "----------\n",
      "Spain\n",
      "TV-MA    82.068966\n",
      "TV-14     8.965517\n",
      "TV-PG     3.448276\n",
      "R         1.379310\n",
      "TV-Y      1.379310\n",
      "NR        0.689655\n",
      "PG-13     0.689655\n",
      "PG        0.689655\n",
      "TV-G      0.689655\n",
      "Name: rating, dtype: float64\n",
      "----------\n"
     ]
    }
   ],
   "source": [
    "for i in top_productive_countries['country'].unique():\n",
    "    print(i)\n",
    "    print(top_productive_countries[top_productive_countries['country']==i]['rating'].value_counts(normalize=True)*100)\n",
    "    print('-'*10)"
   ]
  },
  {
   "cell_type": "code",
   "execution_count": null,
   "id": "c9060efa",
   "metadata": {},
   "outputs": [],
   "source": []
  },
  {
   "cell_type": "code",
   "execution_count": null,
   "id": "092d8267",
   "metadata": {},
   "outputs": [],
   "source": []
  },
  {
   "cell_type": "code",
   "execution_count": null,
   "id": "1f270e56",
   "metadata": {},
   "outputs": [],
   "source": []
  },
  {
   "cell_type": "code",
   "execution_count": null,
   "id": "1e5addd4",
   "metadata": {},
   "outputs": [],
   "source": []
  }
 ],
 "metadata": {
  "kernelspec": {
   "display_name": "Python 3",
   "language": "python",
   "name": "python3"
  },
  "language_info": {
   "codemirror_mode": {
    "name": "ipython",
    "version": 3
   },
   "file_extension": ".py",
   "mimetype": "text/x-python",
   "name": "python",
   "nbconvert_exporter": "python",
   "pygments_lexer": "ipython3",
   "version": "3.8.8"
  }
 },
 "nbformat": 4,
 "nbformat_minor": 5
}
